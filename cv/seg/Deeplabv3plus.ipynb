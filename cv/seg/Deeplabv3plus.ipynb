{
 "cells": [
  {
   "cell_type": "markdown",
   "metadata": {},
   "source": [
    "# 1.模型架构\n",
    "\n",
    "![img](./pic/deeplabv3plus.png)\n",
    "\n",
    "- Encoder-Decoder架构\n",
    "- FCN结构，输入和输入尺寸相同\n",
    "- Encoder部分包含Backbone、ASPP两个模块\n",
    "- Decoder部分结合Low-level Feature (Backbone中间输出) 与 High-Level Feature (ASPP后输出)"
   ]
  },
  {
   "cell_type": "code",
   "execution_count": 52,
   "metadata": {},
   "outputs": [],
   "source": [
    "import torch\n",
    "import torch.nn.functional as F\n",
    "from torch import nn\n",
    "from torchvision.models import resnet\n",
    "from torchvision.models.resnet import BasicBlock, Bottleneck"
   ]
  },
  {
   "cell_type": "markdown",
   "metadata": {},
   "source": [
    "## 1.1 Backbone\n",
    "- Backbone部分常用的为MobileNet、ResNet、Xception\n",
    "- 这里仅实现ResNet50作为示例\n",
    "- 便于看出区别，这里直接继承torch库中的标准ResNet类，重载前向函数,多输出一个low-level feature\n",
    "- 原始Resnet下采样为32倍，通过使用replace_stride_with_dilation,将下采样替换为碰撞卷积，进而下采样倍数变为8或16"
   ]
  },
  {
   "cell_type": "code",
   "execution_count": 53,
   "metadata": {},
   "outputs": [],
   "source": [
    "class Resnet_astrous(resnet.ResNet):\n",
    "    def __init__(self, block, layers, num_classes=1000, zero_init_residual = False, groups= 1, width_per_group = 64, replace_stride_with_dilation= None, norm_layer= None) -> None:\n",
    "        super().__init__(block, layers, num_classes, zero_init_residual, groups, width_per_group, replace_stride_with_dilation, norm_layer)\n",
    "    def forward(self, x):\n",
    "        x = self.conv1(x)  # 1/2\n",
    "        x = self.bn1(x)\n",
    "        x = self.relu(x)\n",
    "        x = self.maxpool(x)  # 1/4\n",
    "        x = self.layer1(x)\n",
    "        low_level_features = x\n",
    "\n",
    "        x = self.layer2(x)  # 1/8\n",
    "        x = self.layer3(x)  # 1/16\n",
    "        x = self.layer4(x)  # 1/16\n",
    "\n",
    "        return low_level_features,x\n",
    "\n",
    "def load_resnet50(downsamperFactor=16):\n",
    "    if downsamperFactor==16:\n",
    "        return Resnet_astrous(block=resnet.Bottleneck,layers=[3, 4, 6, 3],replace_stride_with_dilation=[False,False,True])\n",
    "    elif downsamperFactor==8:\n",
    "        return Resnet_astrous(block=resnet.Bottleneck,layers=[3, 4, 6, 3],replace_stride_with_dilation=[False,True,True])\n",
    "    "
   ]
  },
  {
   "cell_type": "markdown",
   "metadata": {},
   "source": [
    "## 1.2 ASPP模块\n",
    "![img](./pic/ASPP.png)\n",
    "- 利用不同碰撞率的卷积进行特征提取，实现多尺度特征提取"
   ]
  },
  {
   "cell_type": "code",
   "execution_count": 54,
   "metadata": {},
   "outputs": [],
   "source": [
    "class ASPP(nn.Module):\n",
    "\tdef __init__(self, dim_in, dim_out, rate=1):\n",
    "\t\tsuper(ASPP, self).__init__()\n",
    "\t\tself.branch1 = nn.Sequential(\n",
    "\t\t\t\tnn.Conv2d(dim_in, dim_out, 1, 1, padding=0, dilation=rate,bias=True),\n",
    "\t\t\t\tnn.BatchNorm2d(dim_out),\n",
    "\t\t\t\tnn.ReLU(inplace=True),\n",
    "\t\t)\n",
    "\t\tself.branch2 = nn.Sequential(\n",
    "\t\t\t\tnn.Conv2d(dim_in, dim_out, 3, 1, padding=6*rate, dilation=6*rate, bias=True),\n",
    "\t\t\t\tnn.BatchNorm2d(dim_out),\n",
    "\t\t\t\tnn.ReLU(inplace=True),\t\n",
    "\t\t)\n",
    "\t\tself.branch3 = nn.Sequential(\n",
    "\t\t\t\tnn.Conv2d(dim_in, dim_out, 3, 1, padding=12*rate, dilation=12*rate, bias=True),\n",
    "\t\t\t\tnn.BatchNorm2d(dim_out),\n",
    "\t\t\t\tnn.ReLU(inplace=True),\t\n",
    "\t\t)\n",
    "\t\tself.branch4 = nn.Sequential(\n",
    "\t\t\t\tnn.Conv2d(dim_in, dim_out, 3, 1, padding=18*rate, dilation=18*rate, bias=True),\n",
    "\t\t\t\tnn.BatchNorm2d(dim_out),\n",
    "\t\t\t\tnn.ReLU(inplace=True),\t\n",
    "\t\t)\n",
    "\t\tself.branch5=nn.Sequential(\n",
    "\t\t\t\tnn.AdaptiveAvgPool2d(1),\n",
    "\t\t\t\tnn.Conv2d(dim_in, dim_out, 1, bias=False),\n",
    "\t\t\t\tnn.BatchNorm2d(dim_out),\n",
    "\t\t\t\tnn.ReLU()\n",
    "\t\t)\n",
    "\t\t\n",
    "\n",
    "\t\tself.conv_cat = nn.Sequential(\n",
    "\t\t\t\tnn.Conv2d(dim_out*5, dim_out, 1, 1, padding=0,bias=True),\n",
    "\t\t\t\tnn.BatchNorm2d(dim_out),\n",
    "\t\t\t\tnn.ReLU(inplace=True),\t\t\n",
    "\t\t)\n",
    "\n",
    "\tdef forward(self, x):\n",
    "\t\t[b, c, row, col] = x.size()\n",
    "        #-----------------------------------------#\n",
    "        #   一共五个分支\n",
    "        #-----------------------------------------#\n",
    "\t\tconv1x1 = self.branch1(x)\n",
    "\t\tconv3x3_1 = self.branch2(x)\n",
    "\t\tconv3x3_2 = self.branch3(x)\n",
    "\t\tconv3x3_3 = self.branch4(x)\n",
    "        #-----------------------------------------#\n",
    "        #   第五个分支，全局平均池化+卷积\n",
    "        #-----------------------------------------#\n",
    "\t\tglobal_feature = self.branch5(x)\n",
    "\t\tglobal_feature = F.interpolate(global_feature, (row, col), None, 'bilinear', True)\n",
    "\t\t\n",
    "        #-----------------------------------------#\n",
    "        #   将五个分支的内容堆叠起来\n",
    "        #   然后1x1卷积整合特征。\n",
    "        #-----------------------------------------#\n",
    "\t\tfeature_cat = torch.cat([conv1x1, conv3x3_1, conv3x3_2, conv3x3_3, global_feature], dim=1)\n",
    "\t\tresult = self.conv_cat(feature_cat)\n",
    "\t\treturn result"
   ]
  },
  {
   "cell_type": "markdown",
   "metadata": {},
   "source": [
    "## 1.3 Encoder-Decoder\n",
    "- high-level Feture通过双线性插值上采样与low-level Feature形状对齐\n",
    "- 经过卷积层与分类头获得类别概率\n",
    "- 最后双线性插值实现上采样\n",
    "- 双线性插值可替换为转置卷积实现更高精度的边界分割"
   ]
  },
  {
   "cell_type": "code",
   "execution_count": 55,
   "metadata": {},
   "outputs": [],
   "source": [
    "class DeepLab(nn.Module):\n",
    "    def __init__(self,num_classes, downsample_factor=16):\n",
    "        super(DeepLab, self).__init__()\n",
    "        self.num_classes = num_classes\n",
    "        #-----------------------------------------#\n",
    "        #   BackBone模块\n",
    "        #-----------------------------------------#\n",
    "        self.backbone = load_resnet50(downsamperFactor=downsample_factor)\n",
    "        in_channels = 2048\n",
    "        low_level_channels = 256\n",
    "        #-----------------------------------------#\n",
    "        #   ASPP特征提取模块\n",
    "        #-----------------------------------------#\n",
    "        self.aspp = ASPP(dim_in=in_channels, dim_out=256, rate=16//downsample_factor)\n",
    "        #----------------------------------#\n",
    "        #   浅层特征边\n",
    "        #----------------------------------#\n",
    "        self.shortcut_conv = nn.Sequential(\n",
    "            nn.Conv2d(low_level_channels, 48, 1),\n",
    "            nn.BatchNorm2d(48),\n",
    "            nn.ReLU(inplace=True)\n",
    "        )\t\t\n",
    "\n",
    "        self.cat_conv = nn.Sequential(\n",
    "            nn.Conv2d(48+256, 256, 3, stride=1, padding=1),\n",
    "            nn.BatchNorm2d(256),\n",
    "            nn.ReLU(inplace=True),\n",
    "            nn.Dropout(0.5),\n",
    "\n",
    "            nn.Conv2d(256, 256, 3, stride=1, padding=1),\n",
    "            nn.BatchNorm2d(256),\n",
    "            nn.ReLU(inplace=True),\n",
    "\n",
    "            nn.Dropout(0.1)\n",
    "        )\n",
    "        self.cls_conv = nn.Conv2d(256, num_classes, 1, stride=1)\n",
    "\n",
    "    def forward(self, x):\n",
    "        H, W = x.size(2), x.size(3)\n",
    "        #-----------------------------------------#\n",
    "        #   获得两个特征层\n",
    "        #   low_level_features: 浅层特征-进行卷积处理\n",
    "        #   x : 主干部分-利用ASPP结构进行加强特征提取\n",
    "        #-----------------------------------------#\n",
    "        low_level_features, x = self.backbone(x)\n",
    "        x = self.aspp(x)\n",
    "        low_level_features = self.shortcut_conv(low_level_features)\n",
    "        #-----------------------------------------#\n",
    "        #   将加强特征边上采样\n",
    "        #   与浅层特征堆叠后利用卷积进行特征提取\n",
    "        #-----------------------------------------#\n",
    "        x = F.interpolate(x, size=(low_level_features.size(2), low_level_features.size(3)), mode='bilinear', align_corners=True)\n",
    "        x = self.cat_conv(torch.cat((x, low_level_features), dim=1))\n",
    "        x = self.cls_conv(x)\n",
    "        x = F.interpolate(x, size=(H, W), mode='bilinear', align_corners=True)\n",
    "        return x"
   ]
  },
  {
   "cell_type": "code",
   "execution_count": 56,
   "metadata": {},
   "outputs": [
    {
     "name": "stdout",
     "output_type": "stream",
     "text": [
      "torch.Size([1, 20, 512, 512])\n"
     ]
    }
   ],
   "source": [
    "# 类别数为20\n",
    "model=DeepLab(num_classes=20)\n",
    "model.eval()\n",
    "tensor=torch.randn((1,3,512,512))\n",
    "print(model(tensor).shape)\n",
    "# 输出形状为各像素的类别概率，num_classes*H*W"
   ]
  }
 ],
 "metadata": {
  "kernelspec": {
   "display_name": "base",
   "language": "python",
   "name": "python3"
  },
  "language_info": {
   "codemirror_mode": {
    "name": "ipython",
    "version": 3
   },
   "file_extension": ".py",
   "mimetype": "text/x-python",
   "name": "python",
   "nbconvert_exporter": "python",
   "pygments_lexer": "ipython3",
   "version": "3.9.13"
  }
 },
 "nbformat": 4,
 "nbformat_minor": 2
}
