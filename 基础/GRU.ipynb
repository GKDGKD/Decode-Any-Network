{
 "cells": [
  {
   "cell_type": "markdown",
   "metadata": {},
   "source": [
    "# 1. GRU概念"
   ]
  },
  {
   "cell_type": "markdown",
   "metadata": {},
   "source": [
    "![img](./pic/GRU.png)  \n",
    "  \n",
    "**本质是对```H_t```的计算方法进行了改良:**\n",
    "  \n",
    "- **GRU**的核心思想是：在上一个时刻的隐状态```H_t-1```基础上，通过一个门控函数，来决定是否更新隐状态```H_t```。门控函数的输出是一个0-1的数，如果门控函数输出大于门控阈值，则更新隐状态```H_t```，否则不更新。门控函数的输入是上一个时刻的隐\n",
    "- R_t是重置门,有助于捕捉序列中短期依赖关系\n",
    "- Z_t是更新门，有助于捕捉序列中长期依赖关系\n",
    "\n"
   ]
  },
  {
   "cell_type": "code",
   "execution_count": 1,
   "metadata": {},
   "outputs": [],
   "source": [
    "import torch\n",
    "from torch import nn\n",
    "\n",
    "def get_params(emb_size, num_hiddens):\n",
    "    num_inputs = num_outputs = emb_size\n",
    "\n",
    "    def normal(shape):\n",
    "        return torch.randn(size=shape) * 0.01  # 保证均值为0方差为0.01\n",
    "\n",
    "    def three():\n",
    "        return (normal((num_inputs, num_hiddens)),\n",
    "                normal((num_hiddens, num_hiddens)),\n",
    "                torch.zeros(num_hiddens))\n",
    "\n",
    "    # 隐藏层参数\n",
    "    W_xz, W_hz, b_z = three()  # 更新门参数\n",
    "    W_xr, W_hr, b_r = three()  # 重置门参数\n",
    "    W_xh, W_hh, b_h = three()  # 候选隐状态参数\n",
    "\n",
    "    # 输出层参数\n",
    "    W_hq = normal((num_hiddens, num_outputs))\n",
    "    b_q = torch.zeros(num_outputs)\n",
    "\n",
    "    # 附加梯度\n",
    "    params = [W_xz, W_hz, b_z, W_xr, W_hr, b_r, W_xh, W_hh, b_h, W_hq, b_q]\n",
    "    for param in params:\n",
    "        param.requires_grad_(True)\n",
    "    return params"
   ]
  },
  {
   "cell_type": "code",
   "execution_count": 2,
   "metadata": {},
   "outputs": [],
   "source": [
    "def init_gru_state(batch_size, num_hiddens):\n",
    "    return torch.zeros((batch_size, num_hiddens))"
   ]
  },
  {
   "cell_type": "markdown",
   "metadata": {},
   "source": [
    "<div style=\"border-left:2px solid black;padding:10px;margin-left:20px;\">\n",
    "\n",
    "$$ R_t = \\sigma(W_{xr} \\cdot x_t + W_{hr} \\cdot H_{t-1} + b_r) $$\n",
    "$$ Z_t = \\sigma(W_{xz} \\cdot x_t + W_{hz} \\cdot H_{t-1} + b_z) $$\n",
    "$$ \\hat{H_t} = \\tanh(W_{xh} \\cdot x_t + (R_t \\odot H_{t-1})W_{hh}  + b_h) $$\n",
    "$$ H_t = (1 - Z_t) \\odot \\hat{H_t} + Z_t \\odot H_{t-1} $$\n",
    "</div>\n",
    "  \n",
    "$$ o_t = W_{hq} \\cdot H_t + b_q $$"
   ]
  },
  {
   "cell_type": "code",
   "execution_count": 6,
   "metadata": {},
   "outputs": [],
   "source": [
    "def gru(inputs, state, params):\n",
    "    # inputs的形状为(T,bs,emb)\n",
    "    W_xz, W_hz, b_z, W_xr, W_hr, b_r, W_xh, W_hh, b_h, W_hq, b_q = params\n",
    "    H = state\n",
    "    outputs = []\n",
    "    # X的形状为(bs,emb)\n",
    "    for X in inputs:\n",
    "        Z = torch.sigmoid(torch.matmul(X, W_xz) + torch.matmul(H, W_hz) + b_z)\n",
    "        R = torch.sigmoid(torch.matmul(X, W_xr) + torch.matmul(H, W_hr) + b_r)\n",
    "        H_tilde = torch.tanh(torch.matmul(X, W_xh) + R * torch.matmul(H, W_hh) + b_h)\n",
    "        H = Z * H + (1 - Z) * H_tilde\n",
    "        Y = torch.matmul(H, W_hq) + b_q\n",
    "        outputs.append(Y)\n",
    "\n",
    "    return torch.cat(outputs, dim=0), H  # 输出wei(T*bs,emb); (bs, h)"
   ]
  },
  {
   "cell_type": "code",
   "execution_count": 7,
   "metadata": {},
   "outputs": [],
   "source": [
    "class RNNModel:\n",
    "    def __init__(\n",
    "        self, vocab_size, emb_size, num_hiddens, get_params, init_state,forward_fn):\n",
    "        \n",
    "        self.vocab_size, self.num_hiddens = vocab_size, num_hiddens\n",
    "        self.params = get_params(emb_size, num_hiddens)\n",
    "        self.init_state, self.forward_fn = init_state, forward_fn\n",
    "        self.embedding = nn.Embedding(vocab_size, emb_size)\n",
    "        self.Linear = nn.Linear(emb_size, vocab_size)\n",
    "\n",
    "    def __call__(self, X, state):\n",
    "        X = self.embedding(X.T).float()\n",
    "        X, H = self.forward_fn(X, state, self.params)\n",
    "        return self.Linear(X), H  # \n",
    "\n",
    "    def begin_state(self, batch_size):\n",
    "        return self.init_state(batch_size, self.num_hiddens)"
   ]
  },
  {
   "cell_type": "markdown",
   "metadata": {},
   "source": [
    "其余过程与RNN一样，只是```H_t```计算过程不同！"
   ]
  },
  {
   "cell_type": "code",
   "execution_count": 8,
   "metadata": {},
   "outputs": [
    {
     "name": "stdout",
     "output_type": "stream",
     "text": [
      "torch.Size([10, 28]) 2 torch.Size([2, 512])\n"
     ]
    },
    {
     "data": {
      "text/plain": [
       "'\\ntorch.Size([10, 28]) 2 torch.Size([2, 512])\\n'"
      ]
     },
     "execution_count": 8,
     "metadata": {},
     "output_type": "execute_result"
    }
   ],
   "source": [
    "num_hiddens, vocab_size, emb_size = 512, 28, 20\n",
    "X = torch.arange(10).reshape(2, 5)  # bs=2, T=5\n",
    "net = RNNModel(vocab_size, emb_size, num_hiddens, get_params, init_gru_state, gru)\n",
    "\n",
    "# emb = nn.Embedding(vocab_size, emb_size)\n",
    "state = net.begin_state(X.shape[0])\n",
    "Y, new_state = net(X, state)  # 输入的是(T,bs,emb)-->(T,bs,vocab)\n",
    "print(Y.shape, len(new_state), new_state.shape)\n",
    "\n",
    "\"\"\"\n",
    "torch.Size([10, 28]) 2 torch.Size([2, 512])\n",
    "\"\"\""
   ]
  },
  {
   "cell_type": "markdown",
   "metadata": {},
   "source": [
    "## 1.2 调用api"
   ]
  },
  {
   "cell_type": "code",
   "execution_count": 9,
   "metadata": {},
   "outputs": [
    {
     "name": "stdout",
     "output_type": "stream",
     "text": [
      "torch.Size([5, 2, 512]) 1 torch.Size([1, 2, 512])\n"
     ]
    },
    {
     "data": {
      "text/plain": [
       "'\\ntorch.Size([5, 2, 512]) 1 torch.Size([1, 2, 512])\\n'"
      ]
     },
     "execution_count": 9,
     "metadata": {},
     "output_type": "execute_result"
    }
   ],
   "source": [
    "emb = nn.Embedding(vocab_size, emb_size)\n",
    "net2 = nn.GRU(emb_size, num_hiddens)\n",
    "state2 = torch.zeros((1, 2, num_hiddens))\n",
    "Y, new_state = net2(emb(X.T), state2)  # 输入的是X(T,bs,emb)-->(T,bs,hiddens)\n",
    "print(Y.shape, len(new_state), new_state.shape)\n",
    "\n",
    "\"\"\"\n",
    "torch.Size([5, 2, 512]) 1 torch.Size([1, 2, 512])\n",
    "\"\"\""
   ]
  },
  {
   "cell_type": "code",
   "execution_count": null,
   "metadata": {},
   "outputs": [],
   "source": []
  }
 ],
 "metadata": {
  "kernelspec": {
   "display_name": "yolo",
   "language": "python",
   "name": "python3"
  },
  "language_info": {
   "codemirror_mode": {
    "name": "ipython",
    "version": 3
   },
   "file_extension": ".py",
   "mimetype": "text/x-python",
   "name": "python",
   "nbconvert_exporter": "python",
   "pygments_lexer": "ipython3",
   "version": "3.8.16"
  }
 },
 "nbformat": 4,
 "nbformat_minor": 2
}
