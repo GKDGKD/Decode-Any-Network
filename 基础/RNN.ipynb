{
 "cells": [
  {
   "cell_type": "markdown",
   "metadata": {},
   "source": [
    "# 1. RNN概念\n",
    "计算公式:\n",
    "$$h_t = \\tanh(W_{xh} \\cdot X + W_{hh} \\cdot h_{t-1} + b_h)$$\n",
    "$$o_t = W_{hq} \\cdot H_t + b_q$$\n",
    "其中,X是(bs,emb),h与b均为(bs,hiddens),输出为(bs,hiddens)\n",
    "定义参数:"
   ]
  },
  {
   "cell_type": "code",
   "execution_count": 5,
   "metadata": {},
   "outputs": [],
   "source": [
    "import torch\n",
    "from torch import nn\n",
    "\n",
    "def get_params(emb_size, num_hiddens):\n",
    "    num_inputs = num_outputs = emb_size\n",
    "\n",
    "    def normal(shape):\n",
    "        return torch.randn(size=shape) * 0.01  # 保证均值为0方差为0.01\n",
    "\n",
    "    # 隐藏层参数\n",
    "    W_xh = normal((num_inputs, num_hiddens))  # (emb,h)\n",
    "    W_hh = normal((num_hiddens, num_hiddens))  # (h,h)\n",
    "    b_h = torch.zeros(num_hiddens)\n",
    "\n",
    "    # 输出层参数\n",
    "    W_hq = normal((num_hiddens, num_outputs))\n",
    "    b_q = torch.zeros(num_outputs)\n",
    "\n",
    "    # 附加梯度\n",
    "    params = [W_hh, W_hq, W_xh, b_h, b_q]\n",
    "    for param in params:\n",
    "        param.requires_grad_(True)\n",
    "    return params"
   ]
  },
  {
   "cell_type": "markdown",
   "metadata": {},
   "source": [
    "定义初始 ```H_0``` :  形状为(bs,h)"
   ]
  },
  {
   "cell_type": "code",
   "execution_count": 6,
   "metadata": {},
   "outputs": [],
   "source": [
    "def init_rnn_state(batch_size, num_hiddens):\n",
    "    return torch.zeros((batch_size, num_hiddens))"
   ]
  },
  {
   "cell_type": "markdown",
   "metadata": {},
   "source": [
    "计算步骤: 此时送进去的是(T,bs,emb),最后得到的是(T*bs,emb)\n",
    "$$h_t = \\tanh(W_{xh} \\cdot X + W_{hh} \\cdot h_{t-1} + b_h)$$\n",
    "$$o_t = W_{hq} \\cdot H_t + b_q$$"
   ]
  },
  {
   "cell_type": "code",
   "execution_count": 7,
   "metadata": {},
   "outputs": [],
   "source": [
    "def rnn(inputs, state, params):\n",
    "    # inputs的形状为(T,bs,emb)\n",
    "    W_hh, W_hq, W_xh, b_h, b_q = params\n",
    "    H = state\n",
    "    outputs = []\n",
    "    # X的形状为(bs,emb)\n",
    "    for X in inputs:\n",
    "        H = torch.tanh(torch.matmul(X, W_xh) + torch.matmul(H, W_hh) + b_h)  \n",
    "        # (bs,emb) --> (bs,hiddens)\n",
    "        Y = torch.matmul(H, W_hq) + b_q  # (bs,hiddens) --> (bs,emb)\n",
    "        outputs.append(Y)\n",
    "    return torch.cat(outputs, dim=0), H  # 输出wei(T*bs,emb); (bs, h)"
   ]
  },
  {
   "cell_type": "markdown",
   "metadata": {},
   "source": [
    "构造Model:  \n",
    "先将X进行emb嵌入，最终再映射回词表的长度。"
   ]
  },
  {
   "cell_type": "code",
   "execution_count": 8,
   "metadata": {},
   "outputs": [],
   "source": [
    "class RNNModel:\n",
    "    def __init__(\n",
    "        self, vocab_size, emb_size, num_hiddens, get_params, init_state,forward_fn):\n",
    "        \n",
    "        self.vocab_size, self.num_hiddens = vocab_size, num_hiddens\n",
    "        self.params = get_params(emb_size, num_hiddens)\n",
    "        self.init_state, self.forward_fn = init_state, forward_fn\n",
    "        self.embedding = nn.Embedding(vocab_size, emb_size)\n",
    "        self.Linear = nn.Linear(emb_size, vocab_size)\n",
    "\n",
    "    def __call__(self, X, state):\n",
    "        X = self.embedding(X.T).float()\n",
    "        X, H = self.forward_fn(X, state, self.params)\n",
    "        return self.Linear(X), H  # \n",
    "\n",
    "    def begin_state(self, batch_size):\n",
    "        return self.init_state(batch_size, self.num_hiddens)"
   ]
  },
  {
   "cell_type": "code",
   "execution_count": 9,
   "metadata": {},
   "outputs": [
    {
     "name": "stdout",
     "output_type": "stream",
     "text": [
      "torch.Size([10, 28]) 2 torch.Size([2, 512])\n"
     ]
    },
    {
     "data": {
      "text/plain": [
       "'\\ntorch.Size([10, 28]) 2 torch.Size([2, 512])\\n'"
      ]
     },
     "execution_count": 9,
     "metadata": {},
     "output_type": "execute_result"
    }
   ],
   "source": [
    "num_hiddens, vocab_size, emb_size = 512, 28, 20\n",
    "X = torch.arange(10).reshape(2, 5)  # bs=2, T=5\n",
    "net = RNNModel(vocab_size, emb_size, num_hiddens, get_params, init_rnn_state, rnn)\n",
    "\n",
    "# emb = nn.Embedding(vocab_size, emb_size)\n",
    "state = net.begin_state(X.shape[0])\n",
    "Y, new_state = net(X, state)  # 输入的是(T,bs,emb)-->(T,bs,vocab)\n",
    "print(Y.shape, len(new_state), new_state.shape)\n",
    "\n",
    "\"\"\"\n",
    "torch.Size([10, 28]) 2 torch.Size([2, 512])\n",
    "\"\"\""
   ]
  },
  {
   "cell_type": "markdown",
   "metadata": {},
   "source": [
    "## 1.2 调用命令行nn.RNN(emb, num_hiddens)"
   ]
  },
  {
   "cell_type": "code",
   "execution_count": 10,
   "metadata": {},
   "outputs": [
    {
     "name": "stdout",
     "output_type": "stream",
     "text": [
      "torch.Size([5, 2, 512]) 1 torch.Size([1, 2, 512])\n"
     ]
    },
    {
     "data": {
      "text/plain": [
       "'\\ntorch.Size([5, 2, 512]) 1 torch.Size([1, 2, 512])\\n'"
      ]
     },
     "execution_count": 10,
     "metadata": {},
     "output_type": "execute_result"
    }
   ],
   "source": [
    "emb = nn.Embedding(vocab_size, emb_size)\n",
    "net2 = nn.RNN(emb_size, num_hiddens)\n",
    "state2 = torch.zeros((1, 2, num_hiddens))\n",
    "Y, new_state = net2(emb(X.T), state2)  # 输入的是(T,bs,emb)-->(T,bs,hiddens)\n",
    "print(Y.shape, len(new_state), new_state.shape)\n",
    "\n",
    "\"\"\"\n",
    "torch.Size([5, 2, 512]) 1 torch.Size([1, 2, 512])\n",
    "\"\"\""
   ]
  },
  {
   "cell_type": "markdown",
   "metadata": {},
   "source": [
    "- Y是所有每一个时间步的隐状态H，类似于从0实现里面rnn中的全部的```H_t```！！！  \n",
    "- state是最后一个时间步的。  \n",
    "- torch里面的rnnlayer只包括隐藏层，不包括输出层。所以调用rnn_layer的时候，要构造一个输出层Linear.如下图:  \n",
    "  \n",
    "  <center>\n",
    "\n",
    "![img](./pic/RNN.png)\n",
    "</center>"
   ]
  },
  {
   "cell_type": "markdown",
   "metadata": {},
   "source": [
    "- 得到输出之后为(T,bs,hiddens),相当于H,此时再接一个nn.Linear(h,vocab),再reshape,得到最终的(T*bs,vocab)\n",
    "- 在输入进nn.RNN里面的第一个参数是输入进去的X的最后emb的维数，比如你使用nn.Embedding(vocab,emb)将一个X从(bs,T)嵌入到(bs,T,emb)后，你填入的nn.RNN的第一个参数就是emb的大小！！！\n",
    "- 对于nn.Embedding(vocab,emb): \n",
    "  - nn.Embedding(vocab,emb)不是Linear,vocab表示的是索引的最大值为vocab-1,输入进去的还都是单词的索引。"
   ]
  },
  {
   "cell_type": "markdown",
   "metadata": {},
   "source": []
  }
 ],
 "metadata": {
  "kernelspec": {
   "display_name": "yolo",
   "language": "python",
   "name": "python3"
  },
  "language_info": {
   "codemirror_mode": {
    "name": "ipython",
    "version": 3
   },
   "file_extension": ".py",
   "mimetype": "text/x-python",
   "name": "python",
   "nbconvert_exporter": "python",
   "pygments_lexer": "ipython3",
   "version": "3.8.16"
  }
 },
 "nbformat": 4,
 "nbformat_minor": 2
}
