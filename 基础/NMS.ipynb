{
 "cells": [
  {
   "cell_type": "markdown",
   "metadata": {},
   "source": [
    "# 1.基本思想  \n",
    "基本思想，将所有的bbox按conf的高低排序，将最高conf的bbox提取出来，比较其他框与它的iou，如果类别与之一致且iou大于一定thres，则把该bbox去掉，然后再重复上述步骤  \n",
    "  \n",
    "**核心：每个循环提取的也只有conf最高的那个bbox而已**"
   ]
  },
  {
   "cell_type": "markdown",
   "metadata": {},
   "source": [
    "## 1.1 list数据结构版本  \n",
    "list中，只能对list中单个元素进行操作，不能像tensor那样一次性切所有的行中的某几个元素为新list这样的操作，所以思想比较好想，只要对每个元素进行iou比较即可，每次提取的同样只有最高的conf那个框而已。"
   ]
  },
  {
   "cell_type": "code",
   "execution_count": 1,
   "metadata": {},
   "outputs": [],
   "source": [
    "def area(box):\n",
    "    return (box[2] - box[0]) * (box[3] - box[1])\n",
    "\n",
    "def iou(box1, box2):\n",
    "    # 传入的都是两角点四个坐标\n",
    "    x1 = max(box1[0], box2[0])\n",
    "    y1 = max(box1[1], box2[1])\n",
    "    x2 = min(box1[2], box2[2])\n",
    "    y2 = min(box1[3], box2[3])\n",
    "\n",
    "    insert_area = (x2 - x1) * (y2 - y1)\n",
    "    unioun_area = area(box1) + area(box2)\n",
    "    return insert_area / (unioun_area - insert_area)\n",
    "\n",
    "def nms_list(boxes, iou1, iou2):\n",
    "    boxes.sort(key=lambda x: x[1], reverse=True)\n",
    "    select_box = []\n",
    "    while boxes:\n",
    "        top_box = boxes[0]\n",
    "        select_box.append(top_box)\n",
    "        del boxes[0]\n",
    "        select = []\n",
    "        for box in boxes:\n",
    "            if iou(box[2:], top_box[2:]) >= iou2 or (box[0] == top_box[0] and iou(box[2:], top_box[2:]) >= iou1):\n",
    "                continue\n",
    "            else:\n",
    "                select.append(box)\n",
    "        boxes = select\n",
    "\n",
    "    return select_box\n"
   ]
  },
  {
   "cell_type": "markdown",
   "metadata": {},
   "source": [
    "验证一下！"
   ]
  },
  {
   "cell_type": "code",
   "execution_count": 2,
   "metadata": {},
   "outputs": [
    {
     "name": "stdout",
     "output_type": "stream",
     "text": [
      "list [[1, 0.9, 1, 1, 5, 5], [0, 0.6, 1, 1, 10, 10]]\n"
     ]
    }
   ],
   "source": [
    "    \n",
    "boxes_list = [[0, 0.6, 1, 1, 10, 10], [0, 0.5, 1, 2, 11, 11], [0, 0.6, 1, 1.2, 5, 5], [1, 0.6, 1, 1, 5, 5],[1, 0.9, 1, 1, 5, 5]]\n",
    "result1 = nms_list(boxes_list, 0.5, 0.7)\n",
    "print('list', result1)\n",
    "    \n",
    "# list [[1, 0.9, 1, 1, 5, 5], [0, 0.6, 1, 1, 10, 10]]"
   ]
  },
  {
   "cell_type": "markdown",
   "metadata": {},
   "source": [
    "## 1.2 tensor版本  \n",
    "tensor由于不支持对其内部元素删除增加等操作，所以只能通过构造bool进行“切片”，完成删除操作。"
   ]
  },
  {
   "cell_type": "code",
   "execution_count": 3,
   "metadata": {},
   "outputs": [],
   "source": [
    "import torch\n",
    "\n",
    "def area_tensor(box):\n",
    "    if box.dim() > 1:\n",
    "        return (box[:, 2] - box[:, 0]) * (box[:, 3] - box[:, 1])\n",
    "    else:\n",
    "        return (box[2] - box[0]) * (box[3] - box[1])\n",
    "\n",
    "\n",
    "def iou_tensor(box1, box2):\n",
    "    x1 = torch.max(box1[:, 0], box2[0])\n",
    "    y1 = torch.max(box1[:, 1], box2[1])\n",
    "    x2 = torch.min(box1[:, 2], box2[2])\n",
    "    y2 = torch.min(box1[:, 3], box2[3])\n",
    "\n",
    "    intersection_area = torch.clamp(x2 - x1, min=0) * torch.clamp(y2 - y1, min=0)\n",
    "\n",
    "    union_area = area_tensor(box1) + area_tensor(box2) - intersection_area\n",
    "    return intersection_area / union_area\n",
    "\n",
    "\n",
    "def nms_tensor(boxes, iou1, iou2):\n",
    "    sorted_value, sorted_indices = torch.sort(boxes[:, 1], descending=True)\n",
    "    sorted_boxes = boxes[sorted_indices]\n",
    "    selected_boxes = []\n",
    "\n",
    "    while sorted_boxes.size(0) > 0:\n",
    "        top_box = sorted_boxes[0]\n",
    "        selected_boxes.append(top_box)\n",
    "        mask = (iou_tensor(sorted_boxes[:, 2:], top_box[2:]) < iou2) & ((sorted_boxes[:, 0] == top_box[0]) | (iou_tensor(sorted_boxes[:, 2:], top_box[2:]) < iou1))\n",
    "        # mask为： tensor([False, True, False, False, True])\n",
    "        sorted_boxes = sorted_boxes[mask]\n",
    "    result_boxes = torch.stack(selected_boxes)\n",
    "    return result_boxes  # 将list中的两个tensor叠在一块\n"
   ]
  },
  {
   "cell_type": "markdown",
   "metadata": {},
   "source": [
    "验证一下！"
   ]
  },
  {
   "cell_type": "code",
   "execution_count": 4,
   "metadata": {},
   "outputs": [
    {
     "name": "stdout",
     "output_type": "stream",
     "text": [
      "tensor tensor([[ 1.0000,  0.9000,  1.0000,  1.0000,  5.0000,  5.0000],\n",
      "        [ 0.0000,  0.6000,  1.0000,  1.0000, 10.0000, 10.0000]])\n"
     ]
    }
   ],
   "source": [
    "boxes_tensor = torch.tensor(([0, 0.6, 1, 1, 10, 10], [0, 0.5, 1, 2, 11, 11], [0, 0.6, 1, 1.2, 5, 5],[1, 0.6, 1, 1, 5, 5], [1, 0.9, 1, 1, 5, 5]))\n",
    "result2 = nms_tensor(boxes_tensor, 0.5, 0.7)\n",
    "print('tensor', result2)\n",
    "    \n",
    "# tensor tensor([[ 1.0000,  0.9000,  1.0000,  1.0000,  5.0000,  5.0000],[ 0.0000,  0.6000,  1.0000,  1.0000, 10.0000, 10.0000]]) "
   ]
  },
  {
   "cell_type": "markdown",
   "metadata": {},
   "source": [
    "## 1.3 补充  \n",
    "tensor里面的mask"
   ]
  },
  {
   "cell_type": "code",
   "execution_count": null,
   "metadata": {},
   "outputs": [],
   "source": [
    "mask = (iou_tensor(sorted_boxes[:, 2:], top_box[2:]) < iou2) \\\n",
    "        & ((sorted_boxes[:, 0] == top_box[0]) | (iou_tensor(sorted_boxes[:, 2:], top_box[2:]) < iou1))"
   ]
  },
  {
   "cell_type": "markdown",
   "metadata": {},
   "source": [
    "1. and用&表示，or用 | 表示，在这里要将小于阈值的保留框抽出去，所以要反着条件写。\n",
    "2. 用 !=, >, <等符号都可以进行bool张量的构建，构造完后再进行切片选择操作---tensor没法删除\n",
    "3. 注意tenosr中的排序与数组中排序的不同，详情见排序问题。"
   ]
  }
 ],
 "metadata": {
  "kernelspec": {
   "display_name": "yolo",
   "language": "python",
   "name": "python3"
  },
  "language_info": {
   "codemirror_mode": {
    "name": "ipython",
    "version": 3
   },
   "file_extension": ".py",
   "mimetype": "text/x-python",
   "name": "python",
   "nbconvert_exporter": "python",
   "pygments_lexer": "ipython3",
   "version": "3.8.16"
  }
 },
 "nbformat": 4,
 "nbformat_minor": 2
}
