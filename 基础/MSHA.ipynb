{
 "cells": [
  {
   "cell_type": "markdown",
   "metadata": {},
   "source": [
    "## 1.DotProductAttention  \n",
    "$$ \\text{Attention}(Q,K,V)=\\text{softmax}(\\frac{QK^T}{\\sqrt{d_k}})V $$  \n",
    "其中Q为(bs,n,d),K为(bs,m,d),V为(bs,m,v)\n",
    "要确保的是Q与K具有相同的长度(d)"
   ]
  },
  {
   "cell_type": "code",
   "execution_count": 6,
   "metadata": {},
   "outputs": [],
   "source": [
    "import torch\n",
    "from torch import nn\n",
    "import math\n"
   ]
  },
  {
   "cell_type": "code",
   "execution_count": 7,
   "metadata": {},
   "outputs": [],
   "source": [
    "# 前提是q和key需要有相同的长度d\n",
    "class DotProducAttention(nn.Module):\n",
    "    def __init__(self, dropout, **kwargs):\n",
    "        super(DotProducAttention, self).__init__()\n",
    "        self.dropout = nn.Dropout(dropout)\n",
    "\n",
    "    def forward(self, query, keys, values):\n",
    "        d = query.shape[-1]\n",
    "        scores = torch.bmm(query, keys.transpose(1, 2)) / math.sqrt(d)\n",
    "        attention_weight = nn.functional.softmax(scores, dim=-1)\n",
    "        return torch.bmm(self.dropout(attention_weight), values)\n",
    "\n"
   ]
  },
  {
   "cell_type": "code",
   "execution_count": 8,
   "metadata": {},
   "outputs": [
    {
     "name": "stdout",
     "output_type": "stream",
     "text": [
      "tensor([[[18., 19., 20., 21.]],\n",
      "\n",
      "        [[18., 19., 20., 21.]]])\n"
     ]
    }
   ],
   "source": [
    "\n",
    "query, keys = torch.normal(0, 1, (2, 1, 2)), torch.ones((2, 10, 2))\n",
    "values = torch.arange(40, dtype=torch.float32).reshape(1, 10, 4).repeat(2, 1, 1)  # 2,10,4\n",
    "attention = DotProducAttention(dropout=0.1)\n",
    "attention.eval()\n",
    "print(attention(query, keys, values))"
   ]
  },
  {
   "cell_type": "markdown",
   "metadata": {},
   "source": [
    "## 2.MSHA"
   ]
  },
  {
   "cell_type": "code",
   "execution_count": 9,
   "metadata": {},
   "outputs": [],
   "source": [
    "def transpose_qkv(X, num_heads):\n",
    "    # 输入的形状都为(bs,kv,hiddens)\n",
    "    X = X.reshape(\n",
    "        X.shape[0], X.shape[1], num_heads, -1\n",
    "    )  # (bs,kv, heads, hiddens/heads)\n",
    "    X = X.permute(0, 2, 1, 3)\n",
    "    return X.reshape(-1, X.shape[2], X.shape[3])  # (bs*heads, kv, hiddens/heads)\n",
    "\n",
    "def transpose_output(X, num_heads):\n",
    "    X = X.reshape(-1, num_heads, X.shape[1], X.shape[2])  # (bs, heads, kv, hiddens/heads)\n",
    "    X = X.permute(0, 2, 1, 3)\n",
    "    return X.reshape(X.shape[0], X.shape[1], -1)\n",
    "\n",
    "class MultiHeadAttention(nn.Module):\n",
    "    def __init__(\n",
    "        self, key_size, query_size, value_size, num_hiddens, num_heads, dropout\n",
    "    ):\n",
    "        super(MultiHeadAttention, self).__init__()\n",
    "        self.num_heads = num_heads\n",
    "        self.attention = DotProducAttention(dropout)\n",
    "        self.W_q = nn.Linear(query_size, num_hiddens, bias=False)\n",
    "        self.W_k = nn.Linear(key_size, num_hiddens, bias=False)\n",
    "        self.W_v = nn.Linear(value_size, num_hiddens, bias=False)\n",
    "        self.W_o = nn.Linear(\n",
    "            num_hiddens, num_hiddens, bias=False\n",
    "        )  # 看书295页，最后还会再接一个Linear的\n",
    "\n",
    "    def forward(self, queries, keys, values):\n",
    "        # qkv的形状都为(bs,kv,hiddens)\n",
    "        # 经过变换后，qkv的形状为(bs*num_heads, kv, hiddens/num_heads)\n",
    "        queries = transpose_qkv(self.W_q(queries), self.num_heads)\n",
    "        keys = transpose_qkv(self.W_k(keys), self.num_heads)\n",
    "        values = transpose_qkv(self.W_v(values), self.num_heads)\n",
    "\n",
    "        output = self.attention(queries, keys, values)\n",
    "        # output(bs*num_heads, kv, hiddens/num_heads)\n",
    "        output_cat = transpose_output(output, self.num_heads)\n",
    "        return self.W_o(output_cat)\n"
   ]
  },
  {
   "cell_type": "code",
   "execution_count": 10,
   "metadata": {},
   "outputs": [
    {
     "name": "stdout",
     "output_type": "stream",
     "text": [
      "torch.Size([2, 4, 100])\n"
     ]
    }
   ],
   "source": [
    "\n",
    "num_hiddens, num_heads = 100, 5\n",
    "\n",
    "attention = MultiHeadAttention(num_hiddens, num_hiddens, num_hiddens, num_hiddens, num_heads, 0.2)\n",
    "\n",
    "attention.eval()\n",
    "\n",
    "batch_size, num_queries = 2, 4\n",
    "num_kv = 6\n",
    "X = torch.ones((batch_size, num_queries, num_hiddens))\n",
    "Y = torch.ones((batch_size, num_kv, num_hiddens))\n",
    "result = attention(X, Y, Y)\n",
    "print(result.shape)"
   ]
  },
  {
   "cell_type": "code",
   "execution_count": null,
   "metadata": {},
   "outputs": [],
   "source": []
  }
 ],
 "metadata": {
  "kernelspec": {
   "display_name": "yolo",
   "language": "python",
   "name": "python3"
  },
  "language_info": {
   "codemirror_mode": {
    "name": "ipython",
    "version": 3
   },
   "file_extension": ".py",
   "mimetype": "text/x-python",
   "name": "python",
   "nbconvert_exporter": "python",
   "pygments_lexer": "ipython3",
   "version": "3.8.16"
  }
 },
 "nbformat": 4,
 "nbformat_minor": 2
}
