{
 "cells": [
  {
   "cell_type": "markdown",
   "metadata": {},
   "source": [
    "# 1.基础概念  \n",
    "![img](./pic/LSTM.png)  \n",
    "\n",
    "**目的与GRU一样,本质都是对```H_t```进行不同的计算。**\n",
    "\n",
    "# 2.代码实现  \n"
   ]
  },
  {
   "cell_type": "code",
   "execution_count": 6,
   "metadata": {},
   "outputs": [],
   "source": [
    "import torch\n",
    "from torch import nn\n",
    "\n",
    "def get_params(emb_size, num_hiddens):\n",
    "    num_inputs = num_outputs = emb_size\n",
    "\n",
    "    def normal(shape):\n",
    "        return torch.randn(size=shape) * 0.01  # 保证均值为0方差为0.01\n",
    "\n",
    "    def three():\n",
    "        return (normal((num_inputs, num_hiddens)),\n",
    "                normal((num_hiddens, num_hiddens)),\n",
    "                torch.zeros(num_hiddens))\n",
    "\n",
    "    # 隐藏层参数\n",
    "    W_xi, W_hi, b_i = three()  # 输入门参数\n",
    "    W_xf, W_hf, b_f = three()  # 遗忘门参数\n",
    "    W_xo, W_ho, b_o = three()  # 输出门参数\n",
    "    W_xc, W_hc, b_c = three()  # 候选记忆参数\n",
    "\n",
    "    # 输出层参数\n",
    "    W_hq = normal((num_hiddens, num_outputs))\n",
    "    b_q = torch.zeros(num_outputs)\n",
    "\n",
    "    # 附加梯度\n",
    "    params = [W_xi, W_hi, b_i, W_xf, W_hf, b_f, W_xo, W_ho, b_o, W_xc, W_hc, b_c, W_hq, b_q]\n",
    "    for param in params:\n",
    "        param.requires_grad_(True)\n",
    "    return params"
   ]
  },
  {
   "cell_type": "code",
   "execution_count": 7,
   "metadata": {},
   "outputs": [],
   "source": [
    "def init_lstm_state(batch_size, num_hiddens):\n",
    "    return (torch.zeros((batch_size, num_hiddens)),\n",
    "            torch.zeros((batch_size, num_hiddens)))"
   ]
  },
  {
   "cell_type": "markdown",
   "metadata": {},
   "source": [
    "计算公式:\n",
    "<div style=\"border-left:2px solid black;padding:10px;margin-left:20px;\">\n",
    "\n",
    "$$ I_t = \\sigma(W_{xi}x_t + W_{hi}h_{t-1} + b_i) $$  \n",
    "$$ F_t = \\sigma(W_{xf}x_t + W_{hf}h_{t-1} + b_f) $$  \n",
    "$$ O_t = \\sigma(W_{xo}x_t + W_{ho}h_{t-1} + b_o) $$\n",
    "$$ \\hat{C_t} = \\tanh(W_{xc}x_t + W_{hc}h_{t-1} + b_c) $$  \n",
    "$$ C_t = F_t \\odot C_{t-1} + I_t \\odot \\hat{C_t} $$  \n",
    "</div>\n",
    "  \n",
    "$$ h_t = O_t * \\tanh(C_t) $$  "
   ]
  },
  {
   "cell_type": "code",
   "execution_count": 8,
   "metadata": {},
   "outputs": [],
   "source": [
    "def lstm(inputs, state, params):\n",
    "    # inputs的形状为(T,bs,emb)\n",
    "    W_xi, W_hi, b_i, W_xf, W_hf, b_f, W_xo, W_ho, b_o, W_xc, W_hc, b_c, W_hq, b_q = params\n",
    "    (H, C) = state\n",
    "    outputs = []\n",
    "    # X的形状为(bs,emb)\n",
    "    for X in inputs:\n",
    "        I = torch.sigmoid((X @ W_xi) + (H @ W_hi) + b_i)\n",
    "        F = torch.sigmoid((X @ W_xf) + (H @ W_hf) + b_f)\n",
    "        O = torch.sigmoid((X @ W_xo) + (H @ W_ho) + b_o)\n",
    "        C_tilda = torch.tanh((X @ W_xc) + (H @ W_hc) + b_c)\n",
    "        C = F * C + I * C_tilda\n",
    "        Y = (H @ W_hq) + b_q\n",
    "        outputs.append(Y)\n",
    "\n",
    "    return torch.cat(outputs, dim=0), (H, C)  # 输出wei(T*bs,emb); (bs, h)"
   ]
  },
  {
   "cell_type": "code",
   "execution_count": 9,
   "metadata": {},
   "outputs": [],
   "source": [
    "class RNNModel:\n",
    "    def __init__(\n",
    "        self, vocab_size, emb_size, num_hiddens, get_params, init_state, forward_fn):\n",
    "        \n",
    "        self.vocab_size, self.num_hiddens = vocab_size, num_hiddens\n",
    "        self.params = get_params(emb_size, num_hiddens)\n",
    "        self.init_state, self.forward_fn = init_state, forward_fn\n",
    "        self.embedding = nn.Embedding(vocab_size, emb_size)\n",
    "        self.Linear = nn.Linear(emb_size, vocab_size)\n",
    "\n",
    "    def __call__(self, X, state):\n",
    "        X = self.embedding(X.T).float()\n",
    "        X, HC = self.forward_fn(X, state, self.params)\n",
    "        return self.Linear(X), HC  # \n",
    "\n",
    "    def begin_state(self, batch_size):\n",
    "        return self.init_state(batch_size, self.num_hiddens)"
   ]
  },
  {
   "cell_type": "code",
   "execution_count": 11,
   "metadata": {},
   "outputs": [
    {
     "name": "stdout",
     "output_type": "stream",
     "text": [
      "torch.Size([10, 28]) 2 torch.Size([2, 512])\n"
     ]
    },
    {
     "data": {
      "text/plain": [
       "'\\ntorch.Size([10, 28]) 2 torch.Size([2, 512])\\n'"
      ]
     },
     "execution_count": 11,
     "metadata": {},
     "output_type": "execute_result"
    }
   ],
   "source": [
    "num_hiddens, vocab_size, emb_size = 512, 28, 20\n",
    "X = torch.arange(10).reshape(2, 5)  # bs=2, T=5\n",
    "net = RNNModel(vocab_size, emb_size, num_hiddens, get_params, init_lstm_state, lstm)\n",
    "\n",
    "# emb = nn.Embedding(vocab_size, emb_size)\n",
    "state = net.begin_state(X.shape[0])\n",
    "Y, new_state = net(X, state)  # 输入的是(T,bs,emb)-->(T,bs,vocab)\n",
    "print(Y.shape, len(new_state), new_state[0].shape)\n",
    "\n",
    "\"\"\"\n",
    "torch.Size([10, 28]) 2 torch.Size([2, 512])\n",
    "\"\"\""
   ]
  },
  {
   "cell_type": "code",
   "execution_count": null,
   "metadata": {},
   "outputs": [],
   "source": []
  }
 ],
 "metadata": {
  "kernelspec": {
   "display_name": "yolo",
   "language": "python",
   "name": "python3"
  },
  "language_info": {
   "codemirror_mode": {
    "name": "ipython",
    "version": 3
   },
   "file_extension": ".py",
   "mimetype": "text/x-python",
   "name": "python",
   "nbconvert_exporter": "python",
   "pygments_lexer": "ipython3",
   "version": "3.8.16"
  }
 },
 "nbformat": 4,
 "nbformat_minor": 2
}
